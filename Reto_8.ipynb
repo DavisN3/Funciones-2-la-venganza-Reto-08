{
  "nbformat": 4,
  "nbformat_minor": 0,
  "metadata": {
    "colab": {
      "provenance": []
    },
    "kernelspec": {
      "name": "python3",
      "display_name": "Python 3"
    },
    "language_info": {
      "name": "python"
    }
  },
  "cells": [
    {
      "cell_type": "markdown",
      "source": [
        "Para el punto 1 y punto 2, se realizará con base en el siguiente código perteneciente al reto 5 punto 5\n"
      ],
      "metadata": {
        "id": "MuwKz9aX7PE6"
      }
    },
    {
      "cell_type": "code",
      "source": [
        "import math\n",
        "\n",
        "def calculo_promedio(a, b, c, d, e):\n",
        "    return (a + b + c + d + e)/5\n",
        "\n",
        "def calculo_promedio_m(a, b, c, d, e):\n",
        "    multiplicacion = a * b * c * d * e\n",
        "    return multiplicacion ** (1/5)\n",
        "\n",
        "def potencia_mayor_menor(a, b, c, d, e):\n",
        "    mayor = max(a, b, c, d, e)\n",
        "    menor = min(a, b, c, d, e)\n",
        "    return mayor**menor\n",
        "\n",
        "def raiz_cubica(a, b, c, d, e):\n",
        "    menor = min(a, b, c, d, e)\n",
        "    return menor ** (1/3)\n",
        "\n",
        "def main ():\n",
        "    a = float(input(\"Ingrese el número 1: \"))\n",
        "    b = float(input(\"Ingrese el número 2: \"))\n",
        "    c = float(input(\"Ingrese el número 3: \"))\n",
        "    d = float(input(\"Ingrese el número 4: \"))\n",
        "    e = float(input(\"Ingrese el número 5: \"))\n",
        "\n",
        "    promedio = calculo_promedio(a, b, c, d, e)\n",
        "    pm = calculo_promedio_m(a, b, c, d, e)\n",
        "    potencia = potencia_mayor_menor(a, b, c, d, e)\n",
        "    rc = raiz_cubica(a, b, c, d, e)\n",
        "\n",
        "    print(f\"Promedio: {promedio:.2f}\")\n",
        "    print(f\"Promedio multiplicativo: {pm:.2f}\")\n",
        "    print(f\"Potencia del mayor número elevado al menor número: {potencia:.2f}\")\n",
        "    print(f\"Raíz cúbica del número menor: {rc:.2f}\")\n",
        "\n",
        "if __name__ == \"__main__\":\n",
        "    main()"
      ],
      "metadata": {
        "id": "3-l9vGvqCfgm"
      },
      "execution_count": null,
      "outputs": []
    },
    {
      "cell_type": "markdown",
      "source": [
        "Punto 1"
      ],
      "metadata": {
        "id": "0EZjlJnJCVad"
      }
    },
    {
      "cell_type": "markdown",
      "source": [
        "Codigo usando Lambda"
      ],
      "metadata": {
        "id": "AA98T3_v7d0g"
      }
    },
    {
      "cell_type": "code",
      "source": [
        "import math\n",
        "\n",
        "def main (): #Definimos nuestra función principal\n",
        "  #Solicitamos al usuario 5 núymeros y se convierten a valores tipo float.\n",
        "    a = float(input(\"Ingrese el número 1: \"))\n",
        "    b = float(input(\"Ingrese el número 2: \"))\n",
        "    c = float(input(\"Ingrese el número 3: \"))\n",
        "    d = float(input(\"Ingrese el número 4: \"))\n",
        "    e = float(input(\"Ingrese el número 5: \"))\n",
        "\n",
        "    #Calculamos promedio usando lambda\n",
        "    promedio = (lambda x,y,w,z,r: (x+y+w+z+r)/5) (a,b,c,d,e)\n",
        "    #Calculamos promedio multiplicativo usando lambda\n",
        "    pm = (lambda x,y,w,z,r: (x*y*z*r*w)**(1/5)) (a,b,c,d,e)\n",
        "    #Calculamos la potencia del número mayor elevado al menor\n",
        "    potencia = (lambda x,y,w,z,r: max (x,y,w,z,r) ** min (x,y,w,z,r)) (a,b,c,d,e)\n",
        "    #Calculamos la raíz cúbica del menor número\n",
        "    rc = (lambda x,y,w,z,r: min (x,y,w,z,r)**(1/3)) (a,b,c,d,e)\n",
        "\n",
        "    #Mostramos los resultados con dos decimales\n",
        "    print(f\"Promedio: {promedio:.2f}\")\n",
        "    print(f\"Promedio multiplicativo: {pm:.2f}\")\n",
        "    print(f\"Potencia del mayor número elevado al menor número: {potencia:.2f}\")\n",
        "    print(f\"Raíz cúbica del número menor: {rc:.2f}\")\n",
        "\n",
        "\n",
        "if __name__ == \"__main__\":\n",
        "    main()  #Llamamos a nuestra función principal"
      ],
      "metadata": {
        "id": "eRLOI0vL7hSH"
      },
      "execution_count": null,
      "outputs": []
    },
    {
      "cell_type": "markdown",
      "source": [
        "Punto 2\n",
        "\n",
        "Argumentos no definidos\n",
        "\n"
      ],
      "metadata": {
        "id": "bcxh8ZRQ77-h"
      }
    },
    {
      "cell_type": "code",
      "source": [
        "import math\n",
        "\n",
        "def calculo_promedio(*args) -> float:\n",
        "  #Calculamos el promedio de los números que se reciben como argumenots.\n",
        "    suma: float = 0\n",
        "    for num in args:\n",
        "        suma += num\n",
        "    return suma / 5\n",
        "\n",
        "def calculo_promedio_m(*args) -> float:\n",
        "  #Calculamos el promedioo multiplicativo\n",
        "    multiplicacion: float = 1\n",
        "    for num in args:\n",
        "        multiplicacion *= num\n",
        "    return multiplicacion ** (1 /5)\n",
        "\n",
        "def potencia_mayor_menor(*args) -> float:\n",
        "  #Calculamos la potencia del número mayor elevado al menor.\n",
        "    mayor = max(args)\n",
        "    menor = min(args)\n",
        "    return mayor ** menor\n",
        "\n",
        "def raiz_cubica(*args) -> float:\n",
        "  #Calculamos la raíz cúbica del número menor\n",
        "    menor = min(args)\n",
        "    return menor ** (1 / 3)\n",
        "\n",
        "def main(): #Definimos nuestra función principal\n",
        "# Solicitamos al usuario 5 número y los convertimos en float.\n",
        "    a = float(input(\"Ingrese el número 1: \"))\n",
        "    b = float(input(\"Ingrese el número 2: \"))\n",
        "    c = float(input(\"Ingrese el número 3: \"))\n",
        "    d = float(input(\"Ingrese el número 4: \"))\n",
        "    e = float(input(\"Ingrese el número 5: \"))\n",
        "\n",
        "    #Calculamos los resultados utilizando las funciones anteriormente usadas\n",
        "    # Además les asignamos un nuevo nombre para facilitar la impresión.\n",
        "    promedio = calculo_promedio(a, b, c, d, e)\n",
        "    pm = calculo_promedio_m(a, b, c, d, e)\n",
        "    potencia = potencia_mayor_menor(a, b, c, d, e)\n",
        "    rc = raiz_cubica(a, b, c, d, e)\n",
        "\n",
        "    #Imprimimos los resultados con 2 decimales\n",
        "    print(f\"Promedio: {promedio:.2f}\")\n",
        "    print(f\"Promedio multiplicativo: {pm:.2f}\")\n",
        "    print(f\"Potencia del mayor número elevado al menor número: {potencia:.2f}\")\n",
        "    print(f\"Raíz cúbica del número menor: {rc:.2f}\")\n",
        "\n",
        "if __name__ == \"__main__\":\n",
        "    main() #Llamamos nuestra función principal"
      ],
      "metadata": {
        "id": "8eEP5M1G7-A5"
      },
      "execution_count": null,
      "outputs": []
    },
    {
      "cell_type": "markdown",
      "source": [
        "Punto 3"
      ],
      "metadata": {
        "id": "fxXGEDvBTij_"
      }
    },
    {
      "cell_type": "code",
      "source": [
        "def potencia (base, exponente):\n",
        "  #Vamos a calcular la potencia de un número elevado a otro usando recursividad\n",
        "    if exponente == 0:\n",
        "        return 1 #Nuestro caso base, cualquier número elevado a 0 es uno\n",
        "    elif exponente >0:\n",
        "        return base * potencia (base, exponente - 1) #Caso recursivo cuando +\n",
        "    else:\n",
        "        return 1/ potencia(base, -exponente) #Caso recursivo para exp negativos\n",
        "\n",
        "if __name__ == \"__main__\":\n",
        "  #Solicitamos al usuario la base y exponente\n",
        "    base = float (input(\"Ingrese la base: \"))\n",
        "    exponente = int (input(\"Ingrese el exponente: \"))\n",
        "    #Llamamos a nuestra función para que haga el procedimiento\n",
        "    resultado = potencia (base, exponente)\n",
        "    #Imprimimos el resultado.\n",
        "    print(f\"El resultado de {base} elevado a {exponente} es: {resultado}\")"
      ],
      "metadata": {
        "id": "YFyvAt2lTmGV"
      },
      "execution_count": null,
      "outputs": []
    },
    {
      "cell_type": "markdown",
      "source": [
        "Punto 4"
      ],
      "metadata": {
        "id": "Hr3KWrWer1Ex"
      }
    },
    {
      "cell_type": "markdown",
      "source": [
        "Incrementa de manera exponencial a partir del número 30, partiendo del 31 le toma más tiempo realizar las respectivas operaciones"
      ],
      "metadata": {
        "id": "qKgTKwABr2aP"
      }
    },
    {
      "cell_type": "code",
      "source": [
        "import time\n",
        "\n",
        "def fibo(n: int) -> int:\n",
        "  #Vamos a calcular el n número de fibonacci usando la recursividad.\n",
        "    if n == 0:\n",
        "        return 0 #Caso base, de 0 es 0\n",
        "    elif n == 1:\n",
        "        return 1 # Caso base, de 1 es 1\n",
        "    else:\n",
        "        return fibo(n - 1) + fibo(n - 2) # Caso recursivo\n",
        "\n",
        "if __name__ == \"__main__\":\n",
        "  #Se solicita al usuario ingresar un número\n",
        "    num = int(input(\"Ingrese un número: \"))\n",
        "#Usamoe un contador para determinar el tiempo que le toma realizar dicho programa\n",
        "    start_time = time.time()  # Inicia el temporizador\n",
        "    serie_fibo = fibo(num)  # Llama a la función recursiva\n",
        "    end_time = time.time()  # Finaliza el temporizador\n",
        "    timer = end_time - start_time  # Calcula el tiempo de ejecución\n",
        "#Imprimimos el resultado\n",
        "    print(f\"Tiempo de ejecución: {timer:.6f} segundos\")\n",
        "    print(f\"La serie de Fibonacci hasta {num} es {serie_fibo}\")"
      ],
      "metadata": {
        "id": "YDsi_4m0r-23"
      },
      "execution_count": null,
      "outputs": []
    }
  ]
}